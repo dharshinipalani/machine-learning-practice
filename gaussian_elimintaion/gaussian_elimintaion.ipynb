{
 "cells": [
  {
   "cell_type": "code",
   "execution_count": 33,
   "metadata": {},
   "outputs": [],
   "source": [
    "import numpy as np  # type: ignore\n",
    "import tester\n"
   ]
  },
  {
   "cell_type": "code",
   "execution_count": 34,
   "metadata": {},
   "outputs": [],
   "source": [
    "a = np.array([\n",
    "    [2, -1, 1, 1],\n",
    "    [1, 2, -1, -1],\n",
    "    [-1, 2, 2, 2],\n",
    "    [1, -1, 2, 1]\n",
    "], dtype = np.dtype(float) )"
   ]
  },
  {
   "cell_type": "code",
   "execution_count": 35,
   "metadata": {},
   "outputs": [],
   "source": [
    "b = np.array([6, 3, 14, 8], dtype = np.dtype(float))"
   ]
  },
  {
   "cell_type": "code",
   "execution_count": 36,
   "metadata": {},
   "outputs": [
    {
     "name": "stdout",
     "output_type": "stream",
     "text": [
      "\u001b[92m All tests passed\n"
     ]
    }
   ],
   "source": [
    "tester.test_matrix(a, b)"
   ]
  },
  {
   "cell_type": "markdown",
   "metadata": {},
   "source": [
    "find the determinant of matrix A and solution vector"
   ]
  },
  {
   "cell_type": "code",
   "execution_count": 37,
   "metadata": {},
   "outputs": [
    {
     "name": "stdout",
     "output_type": "stream",
     "text": [
      "determinant of the matrix: -17.00\n",
      "solution vector of the matrix: [2. 3. 4. 1.]\n"
     ]
    }
   ],
   "source": [
    "determinant = np.linalg.det(a) #determinant\n",
    "vector = np.linalg.solve(a, b) #solution vector\n",
    "print(f'determinant of the matrix: {determinant:.2f}')\n",
    "print(f'solution vector of the matrix: {vector}')"
   ]
  },
  {
   "cell_type": "code",
   "execution_count": 38,
   "metadata": {},
   "outputs": [],
   "source": [
    "def multiplyRow(matrix, row_num, mulitple_val):\n",
    "    matrix_new = matrix.copy()\n",
    "    matrix_new[row_num] = matrix_new[row_num] * mulitple_val\n",
    "    return matrix_new\n",
    "\n",
    "def addRows(matrix, row_num1, row_num2, multiple_val):\n",
    "    matrix_new = matrix.copy()\n",
    "    matrix_new[row_num2] = matrix_new[row_num1] * multiple_val + matrix_new[row_num2]\n",
    "    return matrix_new\n",
    "\n",
    "def swapRows(matrix, row_num1, row_num2):\n",
    "    matrix_new = matrix.copy()\n",
    "    matrix_new[[row_num1 , row_num2]] = matrix_new[[row_num2 , row_num1]]\n",
    "    return matrix_new"
   ]
  },
  {
   "cell_type": "code",
   "execution_count": 39,
   "metadata": {},
   "outputs": [
    {
     "name": "stdout",
     "output_type": "stream",
     "text": [
      "matrix's 3rd row  is multiplied by 5:\n",
      " [[ 2. -1.  1.  1.]\n",
      " [ 1.  2. -1. -1.]\n",
      " [-5. 10. 10. 10.]\n",
      " [ 1. -1.  2.  1.]]\n",
      "matrix's 4th row  is added by itself and multiple of 3 of 2nd row:\n",
      " [[ 2. -1.  1.  1.]\n",
      " [ 1.  2. -1. -1.]\n",
      " [-1.  2.  2.  2.]\n",
      " [ 4.  5. -1. -2.]]\n",
      "matrix's 1st row is swapped by 3rd:\n",
      " [[-1.  2.  2.  2.]\n",
      " [ 1.  2. -1. -1.]\n",
      " [ 2. -1.  1.  1.]\n",
      " [ 1. -1.  2.  1.]]\n"
     ]
    }
   ],
   "source": [
    "matrix_updatedBymultiplication = multiplyRow(a, 2, 5)\n",
    "print(f'matrix\\'s 3rd row  is multiplied by 5:\\n {matrix_updatedBymultiplication}')\n",
    "\n",
    "matrix_updatedByAdd = addRows(a, 1, 3, 3)\n",
    "print(f'matrix\\'s 4th row  is added by itself and multiple of 3 of 2nd row:\\n {matrix_updatedByAdd}')\n",
    "\n",
    "matrix_updatedBySwap = swapRows(a, 0 , 2)\n",
    "print(f'matrix\\'s 1st row is swapped by 3rd:\\n {matrix_updatedBySwap}')\n",
    "\n"
   ]
  },
  {
   "cell_type": "markdown",
   "metadata": {},
   "source": [
    "row reduction\n"
   ]
  },
  {
   "cell_type": "code",
   "execution_count": 83,
   "metadata": {},
   "outputs": [],
   "source": [
    "def rowReduction(matrix, vector):\n",
    "    a = np.hstack((matrix, vector.reshape((4, 1))))\n",
    "    a_ref = swapRows(a, 0, 1)\n",
    "    a_ref = addRows(a_ref, 0, 1, -2)\n",
    "    a_ref = addRows(a_ref, 0, 2, 1)\n",
    "    a_ref = addRows(a_ref, 0, 3, -1)\n",
    "    a_ref = addRows(a_ref, 2, 3, 1)\n",
    "    a_ref = swapRows(a_ref, 1, 3)\n",
    "    a_ref = addRows(a_ref, 2, 3, 1)\n",
    "    a_ref = addRows(a_ref, 1, 2, -4)\n",
    "    a_ref = addRows(a_ref, 1, 3, 1)\n",
    "    a_ref = addRows(a_ref, 3, 2, 2)\n",
    "    a_ref = addRows(a_ref, 2, 3, -8)\n",
    "    a_ref = multiplyRow(a_ref, 3, -1/17)\n",
    "   \n",
    "    return a_ref"
   ]
  },
  {
   "cell_type": "code",
   "execution_count": 84,
   "metadata": {},
   "outputs": [
    {
     "name": "stdout",
     "output_type": "stream",
     "text": [
      "[[ 1.  2. -1. -1.  3.]\n",
      " [ 0.  1.  4.  3. 22.]\n",
      " [ 0.  0.  1.  3.  7.]\n",
      " [-0. -0. -0.  1.  1.]]\n"
     ]
    }
   ],
   "source": [
    "a_test = rowReduction(a, b)\n",
    "print(a_test)"
   ]
  },
  {
   "cell_type": "markdown",
   "metadata": {},
   "source": [
    "finding solution using the row reduction matrix"
   ]
  },
  {
   "cell_type": "code",
   "execution_count": 85,
   "metadata": {},
   "outputs": [
    {
     "name": "stdout",
     "output_type": "stream",
     "text": [
      "2.0 3.0 4.0 1\n"
     ]
    }
   ],
   "source": [
    "x4 = 1\n",
    "x3 = a_test[2,4] - a_test[2,3] * x4\n",
    "x2 = a_test[1,4] - a_test[1,3] * x4 - a_test[1,2] * x3\n",
    "x1 = a_test[0,4] - a_test[0,3] * x4 - a_test[0,2] * x3 - a_test[0,1] * x2\n",
    "print(x1, x2, x3, x4)"
   ]
  },
  {
   "cell_type": "markdown",
   "metadata": {},
   "source": [
    "reducing using same above to form diagonal \n",
    "\n"
   ]
  },
  {
   "cell_type": "code",
   "execution_count": 102,
   "metadata": {},
   "outputs": [],
   "source": [
    "def diagonalForm(a_ref):\n",
    "    a_ref = addRows(a_ref, 1, 0, -2)\n",
    "    a_ref = addRows(a_ref, 2, 0, 9)\n",
    "    a_ref = addRows(a_ref, 2, 1, -4)\n",
    "    a_ref = addRows(a_ref, 3, 0, -20)\n",
    "    a_ref = addRows(a_ref, 3, 1, 9)\n",
    "    a_ref = addRows(a_ref, 3, 2, -3)\n",
    "    return a_ref"
   ]
  },
  {
   "cell_type": "code",
   "execution_count": 103,
   "metadata": {},
   "outputs": [
    {
     "name": "stdout",
     "output_type": "stream",
     "text": [
      "[[ 1.  0.  0.  0.  2.]\n",
      " [ 0.  1.  0.  0.  3.]\n",
      " [ 0.  0.  1.  0.  4.]\n",
      " [-0. -0. -0.  1.  1.]]\n"
     ]
    }
   ],
   "source": [
    "diag = diagonalForm(a_test)\n",
    "print(diag)"
   ]
  }
 ],
 "metadata": {
  "kernelspec": {
   "display_name": "Python 3",
   "language": "python",
   "name": "python3"
  },
  "language_info": {
   "codemirror_mode": {
    "name": "ipython",
    "version": 3
   },
   "file_extension": ".py",
   "mimetype": "text/x-python",
   "name": "python",
   "nbconvert_exporter": "python",
   "pygments_lexer": "ipython3",
   "version": "3.12.3"
  }
 },
 "nbformat": 4,
 "nbformat_minor": 2
}
